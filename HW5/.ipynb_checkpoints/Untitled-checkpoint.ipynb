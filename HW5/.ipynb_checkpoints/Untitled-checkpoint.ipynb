{
 "cells": [
  {
   "cell_type": "code",
   "execution_count": 27,
   "metadata": {},
   "outputs": [],
   "source": [
    "import numpy as np\n",
    "from numpy import linalg as LA\n",
    "import pandas as pd"
   ]
  },
  {
   "cell_type": "code",
   "execution_count": 28,
   "metadata": {},
   "outputs": [
    {
     "data": {
      "text/plain": [
       "array([[-0.36762603, -0.324776  ,  1.21743174, -1.63257447],\n",
       "       [-1.76206251,  1.85494358,  2.57723177,  0.0955296 ],\n",
       "       [-1.60285088,  0.07599838, -0.2287769 , -0.49650289]])"
      ]
     },
     "execution_count": 28,
     "metadata": {},
     "output_type": "execute_result"
    }
   ],
   "source": [
    "n = (3, 4) # size of matrix\n",
    "A = np.random.randn(n[0], n[1])\n",
    "A"
   ]
  },
  {
   "cell_type": "code",
   "execution_count": 43,
   "metadata": {},
   "outputs": [],
   "source": [
    "q = []\n",
    "qbar = []\n",
    "qbar.append(A[:,0])\n",
    "if(LA.norm(qbar[-1]) == 0):\n",
    "    q.append(qbar[-1])\n",
    "else:\n",
    "    q.append(qbar[-1] / LA.norm(qbar[-1]))"
   ]
  },
  {
   "cell_type": "code",
   "execution_count": 44,
   "metadata": {},
   "outputs": [],
   "source": [
    "for i in range(1,n[1]):\n",
    "    x = A[:, i]\n",
    "    for j in range(0, i):\n",
    "        x -= np.dot(q[j], np.transpose(A[:, i])) * q[j]\n",
    "    qbar.append(x)\n",
    "    if(LA.norm(qbar[-1]) < (10 ^ (-20))):\n",
    "        q.append(qbar[-1])\n",
    "    else:\n",
    "        q.append(qbar[-1] / LA.norm(qbar[-1]))"
   ]
  },
  {
   "cell_type": "code",
   "execution_count": 45,
   "metadata": {},
   "outputs": [],
   "source": [
    "Q = np.transpose(np.array(q))\n"
   ]
  },
  {
   "cell_type": "code",
   "execution_count": 46,
   "metadata": {},
   "outputs": [
    {
     "data": {
      "text/plain": [
       "array([[-0.15252821, -0.40662178,  0.90077404,  0.        ],\n",
       "       [-0.73108056,  0.65972699,  0.17401584, -0.18428854],\n",
       "       [-0.66502358, -0.63199606, -0.39790025, -0.98287219]])"
      ]
     },
     "execution_count": 46,
     "metadata": {},
     "output_type": "execute_result"
    }
   ],
   "source": [
    "Q"
   ]
  },
  {
   "cell_type": "code",
   "execution_count": 47,
   "metadata": {},
   "outputs": [
    {
     "data": {
      "text/plain": [
       "array([[ 1.00000000e+00,  1.32582233e-16, -1.18100504e-17,\n",
       "         7.88362946e-01],\n",
       "       [ 1.32582233e-16,  1.00000000e+00,  4.81881022e-17,\n",
       "         4.99591232e-01],\n",
       "       [-1.18100504e-17,  4.81881022e-17,  1.00000000e+00,\n",
       "         3.59015969e-01],\n",
       "       [ 7.88362946e-01,  4.99591232e-01,  3.59015969e-01,\n",
       "         1.00000000e+00]])"
      ]
     },
     "execution_count": 47,
     "metadata": {},
     "output_type": "execute_result"
    }
   ],
   "source": [
    "np.dot(np.transpose(Q), Q)"
   ]
  },
  {
   "cell_type": "code",
   "execution_count": 48,
   "metadata": {},
   "outputs": [],
   "source": [
    "R = []\n",
    "for i in range(0, n[1]):\n",
    "    T = []\n",
    "    for j in range(0, n[1]):\n",
    "        if(i == j):\n",
    "            T.append(LA.norm(qbar[i]))\n",
    "        elif(i > j):\n",
    "            T.append(0)\n",
    "        else:\n",
    "            T.append(np.dot(q[i], np.transpose(A[:, j])))\n",
    "    R.append(T)\n",
    "R = np.array(R)"
   ]
  },
  {
   "cell_type": "code",
   "execution_count": 49,
   "metadata": {},
   "outputs": [
    {
     "data": {
      "text/plain": [
       "array([[2.41021662e+00, 1.11022302e-16, 0.00000000e+00, 4.39055922e-48],\n",
       "       [0.00000000e+00, 1.30778668e+00, 0.00000000e+00, 2.78232875e-48],\n",
       "       [0.00000000e+00, 0.00000000e+00, 1.63614044e+00, 1.99943551e-48],\n",
       "       [0.00000000e+00, 0.00000000e+00, 0.00000000e+00, 5.56921052e-48]])"
      ]
     },
     "execution_count": 49,
     "metadata": {},
     "output_type": "execute_result"
    }
   ],
   "source": [
    "R"
   ]
  },
  {
   "cell_type": "code",
   "execution_count": 50,
   "metadata": {},
   "outputs": [
    {
     "data": {
      "text/plain": [
       "array([[-3.67626033e-01, -5.31774541e-01,  1.47379284e+00,\n",
       "        -2.05026055e-64],\n",
       "       [-1.76206251e+00,  8.62782172e-01,  2.84714353e-01,\n",
       "        -2.05268330e-48],\n",
       "       [-1.60285088e+00, -8.26516031e-01, -6.51020698e-01,\n",
       "        -1.09476443e-47]])"
      ]
     },
     "execution_count": 50,
     "metadata": {},
     "output_type": "execute_result"
    }
   ],
   "source": [
    "np.dot(Q, R)"
   ]
  },
  {
   "cell_type": "code",
   "execution_count": 51,
   "metadata": {},
   "outputs": [
    {
     "data": {
      "text/plain": [
       "array([[-3.67626033e-01, -5.31774541e-01,  1.47379284e+00,\n",
       "         0.00000000e+00],\n",
       "       [-1.76206251e+00,  8.62782172e-01,  2.84714353e-01,\n",
       "        -1.02634165e-48],\n",
       "       [-1.60285088e+00, -8.26516031e-01, -6.51020698e-01,\n",
       "        -5.47382213e-48]])"
      ]
     },
     "execution_count": 51,
     "metadata": {},
     "output_type": "execute_result"
    }
   ],
   "source": [
    "A"
   ]
  },
  {
   "cell_type": "code",
   "execution_count": null,
   "metadata": {},
   "outputs": [],
   "source": []
  }
 ],
 "metadata": {
  "kernelspec": {
   "display_name": "Python 3",
   "language": "python",
   "name": "python3"
  },
  "language_info": {
   "codemirror_mode": {
    "name": "ipython",
    "version": 3
   },
   "file_extension": ".py",
   "mimetype": "text/x-python",
   "name": "python",
   "nbconvert_exporter": "python",
   "pygments_lexer": "ipython3",
   "version": "3.6.8"
  }
 },
 "nbformat": 4,
 "nbformat_minor": 2
}
