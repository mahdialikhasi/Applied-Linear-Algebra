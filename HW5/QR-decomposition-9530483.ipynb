{
 "cells": [
  {
   "cell_type": "code",
   "execution_count": 1,
   "metadata": {},
   "outputs": [],
   "source": [
    "import numpy as np\n",
    "from numpy import linalg as LA\n",
    "import pandas as pd"
   ]
  },
  {
   "cell_type": "code",
   "execution_count": 2,
   "metadata": {},
   "outputs": [
    {
     "data": {
      "text/plain": [
       "array([[-0.34955916,  0.20794109,  0.92923599, -0.64559013],\n",
       "       [-0.36723336, -0.3553801 , -0.87210504,  0.36838108],\n",
       "       [ 0.82042635, -0.1165894 , -0.59047231, -0.26888924]])"
      ]
     },
     "execution_count": 2,
     "metadata": {},
     "output_type": "execute_result"
    }
   ],
   "source": [
    "n = (3, 4) # size of matrix\n",
    "A = np.random.randn(n[0], n[1])\n",
    "A"
   ]
  },
  {
   "cell_type": "code",
   "execution_count": 3,
   "metadata": {},
   "outputs": [],
   "source": [
    "q = []\n",
    "qbar = []\n",
    "qbar.append(A[:,0])\n",
    "if(LA.norm(qbar[-1]) == 0):\n",
    "    q.append(qbar[-1])\n",
    "else:\n",
    "    q.append(qbar[-1] / LA.norm(qbar[-1]))"
   ]
  },
  {
   "cell_type": "code",
   "execution_count": 4,
   "metadata": {},
   "outputs": [],
   "source": [
    "for i in range(1,n[1]):\n",
    "    x = A[:, i]\n",
    "    for j in range(0, i):\n",
    "        x -= np.dot(q[j], np.transpose(A[:, i])) * q[j]\n",
    "    qbar.append(x)\n",
    "    if(LA.norm(qbar[-1]) < (10 ^ (-20))):\n",
    "        q.append(qbar[-1])\n",
    "    else:\n",
    "        q.append(qbar[-1] / LA.norm(qbar[-1]))"
   ]
  },
  {
   "cell_type": "code",
   "execution_count": 5,
   "metadata": {},
   "outputs": [],
   "source": [
    "Q = np.transpose(np.array(q))\n"
   ]
  },
  {
   "cell_type": "code",
   "execution_count": 6,
   "metadata": {},
   "outputs": [
    {
     "data": {
      "text/plain": [
       "array([[-0.36244647,  0.45460763,  0.81361198, -0.54815097],\n",
       "       [-0.38077228, -0.86901898,  0.31594063,  0.4796321 ],\n",
       "       [ 0.85067328, -0.19528932,  0.48807485,  0.68518871]])"
      ]
     },
     "execution_count": 6,
     "metadata": {},
     "output_type": "execute_result"
    }
   ],
   "source": [
    "Q"
   ]
  },
  {
   "cell_type": "code",
   "execution_count": 7,
   "metadata": {},
   "outputs": [
    {
     "data": {
      "text/plain": [
       "array([[ 1.00000000e+00, -2.84735830e-17,  8.74422406e-16,\n",
       "         5.98916505e-01],\n",
       "       [-2.84735830e-17,  1.00000000e+00, -1.23274564e-15,\n",
       "        -7.99813043e-01],\n",
       "       [ 8.74422406e-16, -1.23274564e-15,  1.00000000e+00,\n",
       "         3.99764476e-02],\n",
       "       [ 5.98916505e-01, -7.99813043e-01,  3.99764476e-02,\n",
       "         1.00000000e+00]])"
      ]
     },
     "execution_count": 7,
     "metadata": {},
     "output_type": "execute_result"
    }
   ],
   "source": [
    "np.dot(np.transpose(Q), Q)"
   ]
  },
  {
   "cell_type": "code",
   "execution_count": 8,
   "metadata": {},
   "outputs": [],
   "source": [
    "R = []\n",
    "for i in range(0, n[1]):\n",
    "    T = []\n",
    "    for j in range(0, n[1]):\n",
    "        if(i == j):\n",
    "            T.append(LA.norm(qbar[i]))\n",
    "        elif(i > j):\n",
    "            T.append(0)\n",
    "        else:\n",
    "            T.append(np.dot(q[i], np.transpose(A[:, j])))\n",
    "    R.append(T)\n",
    "R = np.array(R)"
   ]
  },
  {
   "cell_type": "code",
   "execution_count": 9,
   "metadata": {},
   "outputs": [
    {
     "data": {
      "text/plain": [
       "array([[ 9.64443539e-01, -1.38777878e-17,  1.66533454e-16,\n",
       "         4.85217345e-16],\n",
       "       [ 0.00000000e+00,  4.26132324e-01, -2.46330734e-16,\n",
       "        -6.47975400e-16],\n",
       "       [ 0.00000000e+00,  0.00000000e+00,  1.92309437e-01,\n",
       "         3.23872620e-17],\n",
       "       [ 0.00000000e+00,  0.00000000e+00,  0.00000000e+00,\n",
       "         8.10158580e-16]])"
      ]
     },
     "execution_count": 9,
     "metadata": {},
     "output_type": "execute_result"
    }
   ],
   "source": [
    "R"
   ]
  },
  {
   "cell_type": "code",
   "execution_count": 10,
   "metadata": {},
   "outputs": [
    {
     "data": {
      "text/plain": [
       "array([[-3.49559161e-01,  1.93723004e-01,  1.56465263e-01,\n",
       "        -8.88178420e-16],\n",
       "       [-3.67233364e-01, -3.70317078e-01,  6.07583654e-02,\n",
       "         7.77156117e-16],\n",
       "       [ 8.20426346e-01, -8.32190919e-02,  9.38613993e-02,\n",
       "         1.11022302e-15]])"
      ]
     },
     "execution_count": 10,
     "metadata": {},
     "output_type": "execute_result"
    }
   ],
   "source": [
    "np.dot(Q, R)"
   ]
  },
  {
   "cell_type": "code",
   "execution_count": 11,
   "metadata": {},
   "outputs": [
    {
     "data": {
      "text/plain": [
       "array([[-3.49559161e-01,  1.93723004e-01,  1.56465263e-01,\n",
       "        -4.44089210e-16],\n",
       "       [-3.67233364e-01, -3.70317078e-01,  6.07583654e-02,\n",
       "         3.88578059e-16],\n",
       "       [ 8.20426346e-01, -8.32190919e-02,  9.38613993e-02,\n",
       "         5.55111512e-16]])"
      ]
     },
     "execution_count": 11,
     "metadata": {},
     "output_type": "execute_result"
    }
   ],
   "source": [
    "A"
   ]
  },
  {
   "cell_type": "code",
   "execution_count": null,
   "metadata": {},
   "outputs": [],
   "source": []
  }
 ],
 "metadata": {
  "kernelspec": {
   "display_name": "Python 3",
   "language": "python",
   "name": "python3"
  },
  "language_info": {
   "codemirror_mode": {
    "name": "ipython",
    "version": 3
   },
   "file_extension": ".py",
   "mimetype": "text/x-python",
   "name": "python",
   "nbconvert_exporter": "python",
   "pygments_lexer": "ipython3",
   "version": "3.6.8"
  }
 },
 "nbformat": 4,
 "nbformat_minor": 2
}
